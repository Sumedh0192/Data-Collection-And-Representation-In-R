{
 "cells": [
  {
   "cell_type": "code",
   "execution_count": null,
   "metadata": {
    "collapsed": true
   },
   "outputs": [],
   "source": [
    "install.packages(\"twitteR\", repos = \"https://cran.r-project.org/\")\n",
    "install.packages(\"ROAuth\", repos = \"https://cran.r-project.org/\")\n",
    "install.packages(\"ggmap\", repos = \"https://cran.r-project.org/\")"
   ]
  },
  {
   "cell_type": "markdown",
   "metadata": {},
   "source": [
    "Install the required packages:\n",
    " i.   twitteR: To use Twitter API\n",
    " ii.  ROAuth: To connect with the Twitter API\n",
    " iii. ggmap: To connect with the google API which will help to fetch the geocode of locations"
   ]
  },
  {
   "cell_type": "code",
   "execution_count": null,
   "metadata": {
    "collapsed": true
   },
   "outputs": [],
   "source": [
    "trendLocation <- 'New York'"
   ]
  },
  {
   "cell_type": "markdown",
   "metadata": {},
   "source": [
    "Store the location to find the trending tweets in 'trendLocation'"
   ]
  },
  {
   "cell_type": "code",
   "execution_count": null,
   "metadata": {
    "collapsed": false
   },
   "outputs": [],
   "source": [
    "library(twitteR)\n",
    "library(ROAuth)\n",
    "library(ggmap)"
   ]
  },
  {
   "cell_type": "markdown",
   "metadata": {},
   "source": [
    "Import all the packages to access their functions"
   ]
  },
  {
   "cell_type": "code",
   "execution_count": null,
   "metadata": {
    "collapsed": false
   },
   "outputs": [],
   "source": [
    "consumer_key <- \"BKro8XRNa8BqG7dl5kkfRNzAx\"\n",
    "consumer_secret <- \"FAhRriPzc5jkEJX8LdzqDpDxzg1LDgXwwKU8nq8154RvAIpnQu\"\n",
    "access_token <- \"772574727051370496-aM0inDDiZEow8fHaVBXHKV1uDiBtKeA\"\n",
    "access_secret <- \"eIOajp1GUa0yR1sBXCIqEVHM7VJCo0c1dSGp6YoZHCm4J\"\n",
    "setup_twitter_oauth(consumer_key, consumer_secret, access_token, access_secret)"
   ]
  },
  {
   "cell_type": "markdown",
   "metadata": {},
   "source": [
    "Use the generated keys from Twitter App to connect with Twitter API using OAuth"
   ]
  },
  {
   "cell_type": "code",
   "execution_count": null,
   "metadata": {
    "collapsed": false,
    "scrolled": true
   },
   "outputs": [],
   "source": [
    "geocodeOfLocation <- geocode(trendLocation)"
   ]
  },
  {
   "cell_type": "markdown",
   "metadata": {},
   "source": [
    "Get geocode of the requested Location"
   ]
  },
  {
   "cell_type": "code",
   "execution_count": null,
   "metadata": {
    "collapsed": true
   },
   "outputs": [],
   "source": [
    "closeTrends = closestTrendLocations(geocodeOfLocation$lat,geocodeOfLocation$lon)"
   ]
  },
  {
   "cell_type": "markdown",
   "metadata": {},
   "source": [
    "Get the woeid for the Location using 'closestTrendLocation' and passing the co-ordinates of the requested location to the function."
   ]
  },
  {
   "cell_type": "code",
   "execution_count": null,
   "metadata": {
    "collapsed": true
   },
   "outputs": [],
   "source": [
    "trendingTweets <- getTrends(closeTrends$woeid)"
   ]
  },
  {
   "cell_type": "markdown",
   "metadata": {},
   "source": [
    "Get the trending topics near the location denoted by the woeid using 'getTrends'"
   ]
  },
  {
   "cell_type": "code",
   "execution_count": 9,
   "metadata": {
    "collapsed": false
   },
   "outputs": [
    {
     "name": "stdout",
     "output_type": "stream",
     "text": [
      "Following are the 10 trending topics near New York : \n",
      " #drummer \n",
      " #SJUBase \n",
      " Prod \n",
      " Spring \n",
      " #HurtBae \n",
      " #UMES \n",
      " #Bears \n",
      " Rocko \n",
      " Norma McCorvey \n",
      " Baylor"
     ]
    }
   ],
   "source": [
    "outputMessage <- cat(\"Following are the 10 trending topics near\", trendLocation, \":\")\n",
    "for(i in 1:10){\n",
    "    trendingTweets$name[i]\n",
    "    outputMessage <- cat(outputMessage, \"\\n\" , trendingTweets$name[i])\n",
    "}"
   ]
  },
  {
   "cell_type": "markdown",
   "metadata": {},
   "source": [
    "Print the top 10 trending topics"
   ]
  },
  {
   "cell_type": "markdown",
   "metadata": {},
   "source": [
    "References:\n",
    "1. https://cran.r-project.org/web/packages/twitteR/twitteR.pdf\n",
    "2. https://cran.r-project.org/web/packages/ggmap/ggmap.pdf"
   ]
  }
 ],
 "metadata": {
  "kernelspec": {
   "display_name": "R",
   "language": "R",
   "name": "ir"
  },
  "language_info": {
   "codemirror_mode": "r",
   "file_extension": ".r",
   "mimetype": "text/x-r-source",
   "name": "R",
   "pygments_lexer": "r",
   "version": "3.3.2"
  }
 },
 "nbformat": 4,
 "nbformat_minor": 2
}
