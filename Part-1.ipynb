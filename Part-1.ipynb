{
 "cells": [
  {
   "cell_type": "code",
   "execution_count": null,
   "metadata": {
    "collapsed": false
   },
   "outputs": [],
   "source": [
    "install.packages(\"twitteR\", repos = \"https://cran.r-project.org/\")\n",
    "install.packages(\"ROAuth\", repos = \"https://cran.r-project.org/\")\n",
    "install.packages(\"RSQLite\", repos = \"https://cran.r-project.org/\")"
   ]
  },
  {
   "cell_type": "markdown",
   "metadata": {},
   "source": [
    "Install twitter and OAuth packages"
   ]
  },
  {
   "cell_type": "code",
   "execution_count": 3,
   "metadata": {
    "collapsed": true
   },
   "outputs": [],
   "source": [
    "library(twitteR)\n",
    "library(ROAuth)\n",
    "library(RSQLite)"
   ]
  },
  {
   "cell_type": "markdown",
   "metadata": {},
   "source": [
    "Include twitter and OAuth libraries"
   ]
  },
  {
   "cell_type": "code",
   "execution_count": 4,
   "metadata": {
    "collapsed": false
   },
   "outputs": [
    {
     "name": "stdout",
     "output_type": "stream",
     "text": [
      "[1] \"Using direct authentication\"\n"
     ]
    }
   ],
   "source": [
    "consumer_key <- \"BKro8XRNa8BqG7dl5kkfRNzAx\"\n",
    "consumer_secret <- \"FAhRriPzc5jkEJX8LdzqDpDxzg1LDgXwwKU8nq8154RvAIpnQu\"\n",
    "access_token <- \"772574727051370496-aM0inDDiZEow8fHaVBXHKV1uDiBtKeA\"\n",
    "access_secret <- \"eIOajp1GUa0yR1sBXCIqEVHM7VJCo0c1dSGp6YoZHCm4J\"\n",
    "setup_twitter_oauth(consumer_key, consumer_secret, access_token, access_secret)"
   ]
  },
  {
   "cell_type": "markdown",
   "metadata": {},
   "source": [
    "Create connection with twitter API using OAuth"
   ]
  },
  {
   "cell_type": "code",
   "execution_count": 5,
   "metadata": {
    "collapsed": false
   },
   "outputs": [
    {
     "data": {
      "text/plain": [
       "[[1]]\n",
       "[1] \"MartinGaedt: RT @dataandme: \\\"Visualizing Streaming Data And Alert Notification with Shiny\\\" https://t.co/dojKCyRXmP via @datascienceplus #rstats #dataviz",
       "\"\n",
       "\n",
       "[[2]]\n",
       "[1] \"LucioCorsaro2: RT @KirkDBorne: How to Install #Microsoft R Server for Windows: https://t.co/1VPRKYFL9r #Rstats #BigData #MachineLearning #DataScience http",
       "\"\n",
       "\n",
       "[[3]]\n",
       "[1] \"MartinGaedt: RT @dataandme: Worthy read: \\\"Predicting gentrification using longitudinal census data\\\" by @KenSteif https://t.co/917WFLbx42 #rstats #urbanp",
       "\"\n",
       "\n",
       "[[4]]\n",
       "[1] \"sakimjan: RT @KirkDBorne: How to Install #Microsoft R Server for Windows: https://t.co/1VPRKYFL9r #Rstats #BigData #MachineLearning #DataScience http",
       "\"\n",
       "\n",
       "[[5]]\n",
       "[1] \"datascienceplus: Analytical and Numerical Solutions to Linear Regression Problems https://t.co/SHBFrg1J3P #rstats #regressionmodels\"\n",
       "\n",
       "[[6]]\n",
       "[1] \"pacocuak: RT @JennyBryan: Find upcoming #rstats conferences and your local user  or @RLadiesGlobal group here:\\nhttps://t.co/H2vWcIKMAR\\nthx to @Rivers",
       "\"\n"
      ]
     },
     "metadata": {},
     "output_type": "display_data"
    }
   ],
   "source": [
    "tweets <- searchTwitter('#rstats', n=50)\n",
    "head(tweets)"
   ]
  },
  {
   "cell_type": "markdown",
   "metadata": {},
   "source": [
    "Searching Twitter: passing \"#rstats\" as the search query and quering 50 tweets using \"n\""
   ]
  },
  {
   "cell_type": "code",
   "execution_count": 6,
   "metadata": {
    "collapsed": false
   },
   "outputs": [
    {
     "data": {
      "text/plain": [
       "[[1]]\n",
       "[1] \"datascienceplus: Analytical and Numerical Solutions to Linear Regression Problems https://t.co/SHBFrg1J3P #rstats #regressionmodels\"\n",
       "\n",
       "[[2]]\n",
       "[1] \"NNZST: When will we see #seabirds on the menu for cool #rstats points?? <ed><U+00A0><U+00BD><ed><U+00B8><U+0086><ed><U+00A0><U+00BD><ed><U+00B8><U+0086> https://t.co/nKMyv06fSU\"\n",
       "\n",
       "[[3]]\n",
       "[1] \"amrspeaks: Rbloggers: Using Armadillo with SuperLU https://t.co/7TQHSfV0BH #rstats #DataScience\"\n",
       "\n",
       "[[4]]\n",
       "[1] \"DeborahTannon: #RStats Using Armadillo with SuperLU : https://t.co/jaQ0lb2hbx\"\n",
       "\n",
       "[[5]]\n",
       "[1] \"Rbloggers: Using Armadillo with SuperLU https://t.co/3GJaNUv2gm #rstats #DataScience\"\n",
       "\n",
       "[[6]]\n",
       "[1] \"spottheoutlier: I WILL make this ExpressionSet work. It WILL work with 2 matrices! #Rstats #SciencingSaturday\"\n"
      ]
     },
     "metadata": {},
     "output_type": "display_data"
    }
   ],
   "source": [
    "head(strip_retweets(tweets, strip_manual=TRUE, strip_mt=TRUE))\n",
    "tweets <- head(strip_retweets(tweets, strip_manual=TRUE, strip_mt=TRUE))"
   ]
  },
  {
   "cell_type": "markdown",
   "metadata": {},
   "source": [
    "Removing retweets from fetched tweets using strip_retweets"
   ]
  },
  {
   "cell_type": "code",
   "execution_count": 7,
   "metadata": {
    "collapsed": false
   },
   "outputs": [
    {
     "data": {
      "text/html": [
       "'I like some things, and I dislike everything else.'"
      ],
      "text/latex": [
       "'I like some things, and I dislike everything else.'"
      ],
      "text/markdown": [
       "'I like some things, and I dislike everything else.'"
      ],
      "text/plain": [
       "[1] \"I like some things, and I dislike everything else.\""
      ]
     },
     "metadata": {},
     "output_type": "display_data"
    }
   ],
   "source": [
    "crantastic <- getUser('crantastic')\n",
    "crantastic$getDescription()"
   ]
  },
  {
   "cell_type": "markdown",
   "metadata": {},
   "source": [
    "Get twitter User record with handle 'crantastic' and then fetch its Description"
   ]
  },
  {
   "cell_type": "code",
   "execution_count": 8,
   "metadata": {
    "collapsed": false
   },
   "outputs": [
    {
     "data": {
      "text/html": [
       "32"
      ],
      "text/latex": [
       "32"
      ],
      "text/markdown": [
       "32"
      ],
      "text/plain": [
       "[1] 32"
      ]
     },
     "metadata": {},
     "output_type": "display_data"
    }
   ],
   "source": [
    "crantastic$getFollowersCount()"
   ]
  },
  {
   "cell_type": "markdown",
   "metadata": {},
   "source": [
    "Get number of followers of the selected user"
   ]
  },
  {
   "cell_type": "code",
   "execution_count": 9,
   "metadata": {
    "collapsed": false
   },
   "outputs": [
    {
     "data": {
      "text/plain": [
       "$`35985504`\n",
       "[1] \"MisElizaJane\"\n",
       "\n",
       "$`90472293`\n",
       "[1] \"emtothea\"\n",
       "\n",
       "$`30987732`\n",
       "[1] \"MelanieScrofano\"\n",
       "\n",
       "$`4709232802`\n",
       "[1] \"WynonnaEarp\"\n"
      ]
     },
     "metadata": {},
     "output_type": "display_data"
    }
   ],
   "source": [
    "crantastic$getFriends(n=5)"
   ]
  },
  {
   "cell_type": "markdown",
   "metadata": {},
   "source": [
    "Get the first 5 friends of the User"
   ]
  },
  {
   "cell_type": "code",
   "execution_count": 10,
   "metadata": {
    "collapsed": false
   },
   "outputs": [
    {
     "data": {
      "text/plain": [
       "[[1]]\n",
       "[1] \"erictcarrasco: That \\\"Black lung\\\" line was a @Chy_Leigh joke. Loved it so much we made her keep saying it. #Supergirl #SupergirlLives #Sanvers\"\n",
       "\n",
       "[[2]]\n",
       "[1] \"MelanieScrofano: I shall be INSUFFERABLE when the @WynonnaEarp comic I'm co-writing with @BeauSmithRanch comes out. \\\"The Earp Sister",
       " https://t.co/h0Q6XrE1dV\"\n",
       "\n",
       "[[3]]\n",
       "[1] \"katevoegele: just casually throwing my white gold hoops in the ring to play #GretchenWieners in this https://t.co/0l9FSGjTuD\"\n",
       "\n",
       "[[4]]\n",
       "[1] \"boglesthemind: Here we go, QSO - female writer, female director, female producer, female editor, female lead, female first ad #PersonOfInterest #toofemale\"\n",
       "\n",
       "[[5]]\n",
       "[1] \"ohnikkers: @keithkurson naw they did two shows in london and i went to both.  i made hannah fall in love with the scottish accent tho so NEXT TIME\"\n"
      ]
     },
     "metadata": {},
     "output_type": "display_data"
    }
   ],
   "source": [
    "crantastic$getFavorites(n=5)"
   ]
  },
  {
   "cell_type": "markdown",
   "metadata": {},
   "source": [
    "Get the five favorite tweets for the User"
   ]
  },
  {
   "cell_type": "code",
   "execution_count": 11,
   "metadata": {
    "collapsed": false
   },
   "outputs": [
    {
     "data": {
      "text/html": [
       "<table>\n",
       "<thead><tr><th scope=col>text</th><th scope=col>favorited</th><th scope=col>favoriteCount</th><th scope=col>replyToSN</th><th scope=col>created</th><th scope=col>truncated</th><th scope=col>replyToSID</th><th scope=col>id</th><th scope=col>replyToUID</th><th scope=col>statusSource</th><th scope=col>screenName</th><th scope=col>retweetCount</th><th scope=col>isRetweet</th><th scope=col>retweeted</th><th scope=col>longitude</th><th scope=col>latitude</th></tr></thead>\n",
       "<tbody>\n",
       "\t<tr><td><span style=white-space:pre-wrap>Analytical and Numerical Solutions to Linear Regression Problems https://t.co/SHBFrg1J3P #rstats #regressionmodels                                                       </span></td><td>FALSE                                                                                                                                                                                                            </td><td>1                                                                                                                                                                                                                </td><td>NA                                                                                                                                                                                                               </td><td>2017-02-18 21:43:02                                                                                                                                                                                              </td><td>FALSE                                                                                                                                                                                                            </td><td>NA                                                                                                                                                                                                               </td><td>833069337682509825                                                                                                                                                                                               </td><td>NA                                                                                                                                                                                                               </td><td><span style=white-space:pre-wrap>&lt;a href=\"http://www.google.com/\" rel=\"nofollow\"&gt;Google&lt;/a&gt;                        </span>                                                                           </td><td>datascienceplus                                                                                                                                                                                                  </td><td>1                                                                                                                                                                                                                </td><td>FALSE                                                                                                                                                                                                            </td><td>FALSE                                                                                                                                                                                                            </td><td>NA                                                                                                                                                                                                               </td><td>NA                                                                                                                                                                                                               </td></tr>\n",
       "\t<tr><td>When will we see #seabirds on the menu for cool #rstats points?? &lt;ed&gt;&lt;U+00A0&gt;&lt;U+00BD&gt;&lt;ed&gt;&lt;U+00B8&gt;&lt;U+0086&gt;&lt;ed&gt;&lt;U+00A0&gt;&lt;U+00BD&gt;&lt;ed&gt;&lt;U+00B8&gt;&lt;U+0086&gt; https://t.co/nKMyv06fSU</td><td>FALSE                                                                                                                                                                                                                                            </td><td>1                                                                                                                                                                                                                                                </td><td>NA                                                                                                                                                                                                                                               </td><td>2017-02-18 21:34:08                                                                                                                                                                                                                              </td><td>FALSE                                                                                                                                                                                                                                            </td><td>NA                                                                                                                                                                                                                                               </td><td>833067099811573760                                                                                                                                                                                                                               </td><td>NA                                                                                                                                                                                                                                               </td><td>&lt;a href=\"http://twitter.com/download/iphone\" rel=\"nofollow\"&gt;Twitter for iPhone&lt;/a&gt;                                                                                                                                                   </td><td><span style=white-space:pre-wrap>NNZST          </span>                                                                                                                                                                                          </td><td>0                                                                                                                                                                                                                                                </td><td>FALSE                                                                                                                                                                                                                                            </td><td>FALSE                                                                                                                                                                                                                                            </td><td>NA                                                                                                                                                                                                                                               </td><td>NA                                                                                                                                                                                                                                               </td></tr>\n",
       "\t<tr><td><span style=white-space:pre-wrap>Rbloggers: Using Armadillo with SuperLU https://t.co/7TQHSfV0BH #rstats #DataScience                                                                                     </span></td><td>FALSE                                                                                                                                                                                                            </td><td>0                                                                                                                                                                                                                </td><td>NA                                                                                                                                                                                                               </td><td>2017-02-18 21:22:28                                                                                                                                                                                              </td><td>FALSE                                                                                                                                                                                                            </td><td>NA                                                                                                                                                                                                               </td><td>833064162620272646                                                                                                                                                                                               </td><td>NA                                                                                                                                                                                                               </td><td><span style=white-space:pre-wrap>&lt;a href=\"https://ifttt.com\" rel=\"nofollow\"&gt;IFTTT&lt;/a&gt;                              </span>                                                                           </td><td><span style=white-space:pre-wrap>amrspeaks      </span>                                                                                                                                                          </td><td>0                                                                                                                                                                                                                </td><td>FALSE                                                                                                                                                                                                            </td><td>FALSE                                                                                                                                                                                                            </td><td>NA                                                                                                                                                                                                               </td><td>NA                                                                                                                                                                                                               </td></tr>\n",
       "\t<tr><td><span style=white-space:pre-wrap>#RStats —Using Armadillo with SuperLU : https://t.co/jaQ0lb2hbx                                                                                                          </span></td><td>FALSE                                                                                                                                                                                                            </td><td>0                                                                                                                                                                                                                </td><td>NA                                                                                                                                                                                                               </td><td>2017-02-18 21:22:18                                                                                                                                                                                              </td><td>FALSE                                                                                                                                                                                                            </td><td>NA                                                                                                                                                                                                               </td><td>833064119385387009                                                                                                                                                                                               </td><td>NA                                                                                                                                                                                                               </td><td><span style=white-space:pre-wrap>&lt;a href=\"https://ifttt.com\" rel=\"nofollow\"&gt;IFTTT&lt;/a&gt;                              </span>                                                                           </td><td><span style=white-space:pre-wrap>DeborahTannon  </span>                                                                                                                                                          </td><td>0                                                                                                                                                                                                                </td><td>FALSE                                                                                                                                                                                                            </td><td>FALSE                                                                                                                                                                                                            </td><td>NA                                                                                                                                                                                                               </td><td>NA                                                                                                                                                                                                               </td></tr>\n",
       "\t<tr><td><span style=white-space:pre-wrap>Using Armadillo with SuperLU https://t.co/3GJaNUv2gm #rstats #DataScience                                                                                                </span></td><td>FALSE                                                                                                                                                                                                            </td><td>0                                                                                                                                                                                                                </td><td>NA                                                                                                                                                                                                               </td><td>2017-02-18 21:20:35                                                                                                                                                                                              </td><td>FALSE                                                                                                                                                                                                            </td><td>NA                                                                                                                                                                                                               </td><td>833063687959240707                                                                                                                                                                                               </td><td>NA                                                                                                                                                                                                               </td><td><span style=white-space:pre-wrap>&lt;a href=\"http://www.r-bloggers.com\" rel=\"nofollow\"&gt;r-bloggers.com&lt;/a&gt;             </span>                                                                           </td><td><span style=white-space:pre-wrap>Rbloggers      </span>                                                                                                                                                          </td><td>2                                                                                                                                                                                                                </td><td>FALSE                                                                                                                                                                                                            </td><td>FALSE                                                                                                                                                                                                            </td><td>NA                                                                                                                                                                                                               </td><td>NA                                                                                                                                                                                                               </td></tr>\n",
       "\t<tr><td><span style=white-space:pre-wrap>I WILL make this ExpressionSet work. It WILL work with 2 matrices! #Rstats #SciencingSaturday                                                                            </span></td><td>FALSE                                                                                                                                                                                                            </td><td>1                                                                                                                                                                                                                </td><td>NA                                                                                                                                                                                                               </td><td>2017-02-18 21:18:58                                                                                                                                                                                              </td><td>FALSE                                                                                                                                                                                                            </td><td>NA                                                                                                                                                                                                               </td><td>833063281384357892                                                                                                                                                                                               </td><td>NA                                                                                                                                                                                                               </td><td>&lt;a href=\"http://twitter.com/download/iphone\" rel=\"nofollow\"&gt;Twitter for iPhone&lt;/a&gt;                                                                                                                   </td><td>spottheoutlier                                                                                                                                                                                                   </td><td>0                                                                                                                                                                                                                </td><td>FALSE                                                                                                                                                                                                            </td><td>FALSE                                                                                                                                                                                                            </td><td>NA                                                                                                                                                                                                               </td><td>NA                                                                                                                                                                                                               </td></tr>\n",
       "</tbody>\n",
       "</table>\n"
      ],
      "text/latex": [
       "\\begin{tabular}{r|llllllllllllllll}\n",
       " text & favorited & favoriteCount & replyToSN & created & truncated & replyToSID & id & replyToUID & statusSource & screenName & retweetCount & isRetweet & retweeted & longitude & latitude\\\\\n",
       "\\hline\n",
       "\t Analytical and Numerical Solutions to Linear Regression Problems https://t.co/SHBFrg1J3P \\#rstats \\#regressionmodels                                                        & FALSE                                                                                                                                                                         & 1                                                                                                                                                                             & NA                                                                                                                                                                            & 2017-02-18 21:43:02                                                                                                                                                           & FALSE                                                                                                                                                                         & NA                                                                                                                                                                            & 833069337682509825                                                                                                                                                            & NA                                                                                                                                                                            & <a href=\"http://www.google.com/\" rel=\"nofollow\">Google</a>                                                                                                                    & datascienceplus                                                                                                                                                               & 1                                                                                                                                                                             & FALSE                                                                                                                                                                         & FALSE                                                                                                                                                                         & NA                                                                                                                                                                            & NA                                                                                                                                                                           \\\\\n",
       "\t When will we see \\#seabirds on the menu for cool \\#rstats points?? <ed><U+00A0><U+00BD><ed><U+00B8><U+0086><ed><U+00A0><U+00BD><ed><U+00B8><U+0086> https://t.co/nKMyv06fSU & FALSE                                                                                                                                                                         & 1                                                                                                                                                                             & NA                                                                                                                                                                            & 2017-02-18 21:34:08                                                                                                                                                           & FALSE                                                                                                                                                                         & NA                                                                                                                                                                            & 833067099811573760                                                                                                                                                            & NA                                                                                                                                                                            & <a href=\"http://twitter.com/download/iphone\" rel=\"nofollow\">Twitter for iPhone</a>                                                                                            & NNZST                                                                                                                                                                         & 0                                                                                                                                                                             & FALSE                                                                                                                                                                         & FALSE                                                                                                                                                                         & NA                                                                                                                                                                            & NA                                                                                                                                                                           \\\\\n",
       "\t Rbloggers: Using Armadillo with SuperLU https://t.co/7TQHSfV0BH \\#rstats \\#DataScience                                                                                      & FALSE                                                                                                                                                                         & 0                                                                                                                                                                             & NA                                                                                                                                                                            & 2017-02-18 21:22:28                                                                                                                                                           & FALSE                                                                                                                                                                         & NA                                                                                                                                                                            & 833064162620272646                                                                                                                                                            & NA                                                                                                                                                                            & <a href=\"https://ifttt.com\" rel=\"nofollow\">IFTTT</a>                                                                                                                          & amrspeaks                                                                                                                                                                     & 0                                                                                                                                                                             & FALSE                                                                                                                                                                         & FALSE                                                                                                                                                                         & NA                                                                                                                                                                            & NA                                                                                                                                                                           \\\\\n",
       "\t \\#RStats —Using Armadillo with SuperLU : https://t.co/jaQ0lb2hbx                                                                                                           & FALSE                                                                                                                                                                       & 0                                                                                                                                                                           & NA                                                                                                                                                                          & 2017-02-18 21:22:18                                                                                                                                                         & FALSE                                                                                                                                                                       & NA                                                                                                                                                                          & 833064119385387009                                                                                                                                                          & NA                                                                                                                                                                          & <a href=\"https://ifttt.com\" rel=\"nofollow\">IFTTT</a>                                                                                                                        & DeborahTannon                                                                                                                                                               & 0                                                                                                                                                                           & FALSE                                                                                                                                                                       & FALSE                                                                                                                                                                       & NA                                                                                                                                                                          & NA                                                                                                                                                                         \\\\\n",
       "\t Using Armadillo with SuperLU https://t.co/3GJaNUv2gm \\#rstats \\#DataScience                                                                                                 & FALSE                                                                                                                                                                         & 0                                                                                                                                                                             & NA                                                                                                                                                                            & 2017-02-18 21:20:35                                                                                                                                                           & FALSE                                                                                                                                                                         & NA                                                                                                                                                                            & 833063687959240707                                                                                                                                                            & NA                                                                                                                                                                            & <a href=\"http://www.r-bloggers.com\" rel=\"nofollow\">r-bloggers.com</a>                                                                                                         & Rbloggers                                                                                                                                                                     & 2                                                                                                                                                                             & FALSE                                                                                                                                                                         & FALSE                                                                                                                                                                         & NA                                                                                                                                                                            & NA                                                                                                                                                                           \\\\\n",
       "\t I WILL make this ExpressionSet work. It WILL work with 2 matrices! \\#Rstats \\#SciencingSaturday                                                                             & FALSE                                                                                                                                                                         & 1                                                                                                                                                                             & NA                                                                                                                                                                            & 2017-02-18 21:18:58                                                                                                                                                           & FALSE                                                                                                                                                                         & NA                                                                                                                                                                            & 833063281384357892                                                                                                                                                            & NA                                                                                                                                                                            & <a href=\"http://twitter.com/download/iphone\" rel=\"nofollow\">Twitter for iPhone</a>                                                                                            & spottheoutlier                                                                                                                                                                & 0                                                                                                                                                                             & FALSE                                                                                                                                                                         & FALSE                                                                                                                                                                         & NA                                                                                                                                                                            & NA                                                                                                                                                                           \\\\\n",
       "\\end{tabular}\n"
      ],
      "text/markdown": [
       "\n",
       "text | favorited | favoriteCount | replyToSN | created | truncated | replyToSID | id | replyToUID | statusSource | screenName | retweetCount | isRetweet | retweeted | longitude | latitude | \n",
       "|---|---|---|---|---|---|\n",
       "| Analytical and Numerical Solutions to Linear Regression Problems https://t.co/SHBFrg1J3P #rstats #regressionmodels                                                        | FALSE                                                                                                                                                                     | 1                                                                                                                                                                         | NA                                                                                                                                                                        | 2017-02-18 21:43:02                                                                                                                                                       | FALSE                                                                                                                                                                     | NA                                                                                                                                                                        | 833069337682509825                                                                                                                                                        | NA                                                                                                                                                                        | <a href=\"http://www.google.com/\" rel=\"nofollow\">Google</a>                                                                                                                | datascienceplus                                                                                                                                                           | 1                                                                                                                                                                         | FALSE                                                                                                                                                                     | FALSE                                                                                                                                                                     | NA                                                                                                                                                                        | NA                                                                                                                                                                        | \n",
       "| When will we see #seabirds on the menu for cool #rstats points?? <ed><U+00A0><U+00BD><ed><U+00B8><U+0086><ed><U+00A0><U+00BD><ed><U+00B8><U+0086> https://t.co/nKMyv06fSU | FALSE                                                                                                                                                                     | 1                                                                                                                                                                         | NA                                                                                                                                                                        | 2017-02-18 21:34:08                                                                                                                                                       | FALSE                                                                                                                                                                     | NA                                                                                                                                                                        | 833067099811573760                                                                                                                                                        | NA                                                                                                                                                                        | <a href=\"http://twitter.com/download/iphone\" rel=\"nofollow\">Twitter for iPhone</a>                                                                                        | NNZST                                                                                                                                                                     | 0                                                                                                                                                                         | FALSE                                                                                                                                                                     | FALSE                                                                                                                                                                     | NA                                                                                                                                                                        | NA                                                                                                                                                                        | \n",
       "| Rbloggers: Using Armadillo with SuperLU https://t.co/7TQHSfV0BH #rstats #DataScience                                                                                      | FALSE                                                                                                                                                                     | 0                                                                                                                                                                         | NA                                                                                                                                                                        | 2017-02-18 21:22:28                                                                                                                                                       | FALSE                                                                                                                                                                     | NA                                                                                                                                                                        | 833064162620272646                                                                                                                                                        | NA                                                                                                                                                                        | <a href=\"https://ifttt.com\" rel=\"nofollow\">IFTTT</a>                                                                                                                      | amrspeaks                                                                                                                                                                 | 0                                                                                                                                                                         | FALSE                                                                                                                                                                     | FALSE                                                                                                                                                                     | NA                                                                                                                                                                        | NA                                                                                                                                                                        | \n",
       "| #RStats —Using Armadillo with SuperLU : https://t.co/jaQ0lb2hbx                                                                                                           | FALSE                                                                                                                                                                     | 0                                                                                                                                                                         | NA                                                                                                                                                                        | 2017-02-18 21:22:18                                                                                                                                                       | FALSE                                                                                                                                                                     | NA                                                                                                                                                                        | 833064119385387009                                                                                                                                                        | NA                                                                                                                                                                        | <a href=\"https://ifttt.com\" rel=\"nofollow\">IFTTT</a>                                                                                                                      | DeborahTannon                                                                                                                                                             | 0                                                                                                                                                                         | FALSE                                                                                                                                                                     | FALSE                                                                                                                                                                     | NA                                                                                                                                                                        | NA                                                                                                                                                                        | \n",
       "| Using Armadillo with SuperLU https://t.co/3GJaNUv2gm #rstats #DataScience                                                                                                 | FALSE                                                                                                                                                                     | 0                                                                                                                                                                         | NA                                                                                                                                                                        | 2017-02-18 21:20:35                                                                                                                                                       | FALSE                                                                                                                                                                     | NA                                                                                                                                                                        | 833063687959240707                                                                                                                                                        | NA                                                                                                                                                                        | <a href=\"http://www.r-bloggers.com\" rel=\"nofollow\">r-bloggers.com</a>                                                                                                     | Rbloggers                                                                                                                                                                 | 2                                                                                                                                                                         | FALSE                                                                                                                                                                     | FALSE                                                                                                                                                                     | NA                                                                                                                                                                        | NA                                                                                                                                                                        | \n",
       "| I WILL make this ExpressionSet work. It WILL work with 2 matrices! #Rstats #SciencingSaturday                                                                             | FALSE                                                                                                                                                                     | 1                                                                                                                                                                         | NA                                                                                                                                                                        | 2017-02-18 21:18:58                                                                                                                                                       | FALSE                                                                                                                                                                     | NA                                                                                                                                                                        | 833063281384357892                                                                                                                                                        | NA                                                                                                                                                                        | <a href=\"http://twitter.com/download/iphone\" rel=\"nofollow\">Twitter for iPhone</a>                                                                                        | spottheoutlier                                                                                                                                                            | 0                                                                                                                                                                         | FALSE                                                                                                                                                                     | FALSE                                                                                                                                                                     | NA                                                                                                                                                                        | NA                                                                                                                                                                        | \n",
       "\n",
       "\n"
      ],
      "text/plain": [
       "  text                                                                                                                                                                     \n",
       "1 Analytical and Numerical Solutions to Linear Regression Problems https://t.co/SHBFrg1J3P #rstats #regressionmodels                                                       \n",
       "2 When will we see #seabirds on the menu for cool #rstats points?? <ed><U+00A0><U+00BD><ed><U+00B8><U+0086><ed><U+00A0><U+00BD><ed><U+00B8><U+0086> https://t.co/nKMyv06fSU\n",
       "3 Rbloggers: Using Armadillo with SuperLU https://t.co/7TQHSfV0BH #rstats #DataScience                                                                                     \n",
       "4 #RStats Using Armadillo with SuperLU : https://t.co/jaQ0lb2hbx                                                                                                          \n",
       "5 Using Armadillo with SuperLU https://t.co/3GJaNUv2gm #rstats #DataScience                                                                                                \n",
       "6 I WILL make this ExpressionSet work. It WILL work with 2 matrices! #Rstats #SciencingSaturday                                                                            \n",
       "  favorited favoriteCount replyToSN created             truncated replyToSID\n",
       "1 FALSE     1             NA        2017-02-18 21:43:02 FALSE     NA        \n",
       "2 FALSE     1             NA        2017-02-18 21:34:08 FALSE     NA        \n",
       "3 FALSE     0             NA        2017-02-18 21:22:28 FALSE     NA        \n",
       "4 FALSE     0             NA        2017-02-18 21:22:18 FALSE     NA        \n",
       "5 FALSE     0             NA        2017-02-18 21:20:35 FALSE     NA        \n",
       "6 FALSE     1             NA        2017-02-18 21:18:58 FALSE     NA        \n",
       "  id                 replyToUID\n",
       "1 833069337682509825 NA        \n",
       "2 833067099811573760 NA        \n",
       "3 833064162620272646 NA        \n",
       "4 833064119385387009 NA        \n",
       "5 833063687959240707 NA        \n",
       "6 833063281384357892 NA        \n",
       "  statusSource                                                                      \n",
       "1 <a href=\"http://www.google.com/\" rel=\"nofollow\">Google</a>                        \n",
       "2 <a href=\"http://twitter.com/download/iphone\" rel=\"nofollow\">Twitter for iPhone</a>\n",
       "3 <a href=\"https://ifttt.com\" rel=\"nofollow\">IFTTT</a>                              \n",
       "4 <a href=\"https://ifttt.com\" rel=\"nofollow\">IFTTT</a>                              \n",
       "5 <a href=\"http://www.r-bloggers.com\" rel=\"nofollow\">r-bloggers.com</a>             \n",
       "6 <a href=\"http://twitter.com/download/iphone\" rel=\"nofollow\">Twitter for iPhone</a>\n",
       "  screenName      retweetCount isRetweet retweeted longitude latitude\n",
       "1 datascienceplus 1            FALSE     FALSE     NA        NA      \n",
       "2 NNZST           0            FALSE     FALSE     NA        NA      \n",
       "3 amrspeaks       0            FALSE     FALSE     NA        NA      \n",
       "4 DeborahTannon   0            FALSE     FALSE     NA        NA      \n",
       "5 Rbloggers       2            FALSE     FALSE     NA        NA      \n",
       "6 spottheoutlier  0            FALSE     FALSE     NA        NA      "
      ]
     },
     "metadata": {},
     "output_type": "display_data"
    }
   ],
   "source": [
    "df <- twListToDF(tweets)\n",
    "head(df)"
   ]
  },
  {
   "cell_type": "markdown",
   "metadata": {},
   "source": [
    "Convert the unstructured tweet data to a structured data frame using twListToDF"
   ]
  },
  {
   "cell_type": "code",
   "execution_count": 12,
   "metadata": {
    "collapsed": false,
    "scrolled": true
   },
   "outputs": [
    {
     "data": {
      "text/html": [
       "TRUE"
      ],
      "text/latex": [
       "TRUE"
      ],
      "text/markdown": [
       "TRUE"
      ],
      "text/plain": [
       "[1] TRUE"
      ]
     },
     "metadata": {},
     "output_type": "display_data"
    }
   ],
   "source": [
    "sql_lite_file = tempfile()\n",
    "register_sqlite_backend(sql_lite_file)\n",
    "store_tweets_db(tweets)"
   ]
  },
  {
   "cell_type": "markdown",
   "metadata": {},
   "source": [
    "1. Create a tempfile to store in the database\n",
    "2. Add the file to the sqlite database\n",
    "3. Store the tweets in the database"
   ]
  },
  {
   "cell_type": "code",
   "execution_count": 13,
   "metadata": {
    "collapsed": false
   },
   "outputs": [
    {
     "data": {
      "text/plain": [
       "[[1]]\n",
       "[1] \"datascienceplus: Analytical and Numerical Solutions to Linear Regression Problems https://t.co/SHBFrg1J3P #rstats #regressionmodels\"\n",
       "\n",
       "[[2]]\n",
       "[1] \"NNZST: When will we see #seabirds on the menu for cool #rstats points?? <ed><U+00A0><U+00BD><ed><U+00B8><U+0086><ed><U+00A0><U+00BD><ed><U+00B8><U+0086> https://t.co/nKMyv06fSU\"\n",
       "\n",
       "[[3]]\n",
       "[1] \"amrspeaks: Rbloggers: Using Armadillo with SuperLU https://t.co/7TQHSfV0BH #rstats #DataScience\"\n",
       "\n",
       "[[4]]\n",
       "[1] \"DeborahTannon: #RStats Using Armadillo with SuperLU : https://t.co/jaQ0lb2hbx\"\n",
       "\n",
       "[[5]]\n",
       "[1] \"Rbloggers: Using Armadillo with SuperLU https://t.co/3GJaNUv2gm #rstats #DataScience\"\n",
       "\n",
       "[[6]]\n",
       "[1] \"spottheoutlier: I WILL make this ExpressionSet work. It WILL work with 2 matrices! #Rstats #SciencingSaturday\"\n"
      ]
     },
     "metadata": {},
     "output_type": "display_data"
    }
   ],
   "source": [
    "from_db = load_tweets_db()\n",
    "head(from_db)"
   ]
  },
  {
   "cell_type": "markdown",
   "metadata": {},
   "source": [
    "Retrieve the tweets from the database"
   ]
  },
  {
   "cell_type": "code",
   "execution_count": 14,
   "metadata": {
    "collapsed": false
   },
   "outputs": [
    {
     "data": {
      "text/plain": [
       "[[1]]\n",
       "[1] \"cranatic: Update: Bchron, BoolNet, caribou, CePa, fmri, HTSCluster, isa2, lessR, lgcp, spatstat. http://t.co/skyrajMA #rstats\"\n",
       "\n",
       "[[2]]\n",
       "[1] \"cranatic: New: extrafont, extrafontdb, Rttf2pt1, x12GUI. http://t.co/skyrajMA #rstats\"\n",
       "\n",
       "[[3]]\n",
       "[1] \"cranatic: Update: drc, RcmdrPlugin.survival, rrcov, spls. http://t.co/eEoXNifB #rstats\"\n",
       "\n",
       "[[4]]\n",
       "[1] \"cranatic: New: hzar. http://t.co/eEoXNifB #rstats\"\n",
       "\n",
       "[[5]]\n",
       "[1] \"cranatic: Update: directlabels, forensim, gdata, gWidgetstcltk, gWidgetsWWW, harvestr, rrlda, Rz, Sim.DiffProc, ... http://t.co/9JEe7K91 #rstats\"\n"
      ]
     },
     "metadata": {},
     "output_type": "display_data"
    }
   ],
   "source": [
    "cran_tweets <- userTimeline('cranatic')\n",
    "cran_tweets[1:5]"
   ]
  },
  {
   "cell_type": "markdown",
   "metadata": {},
   "source": [
    "Retrieve most recent 5 tweets by user 'cranatic'"
   ]
  },
  {
   "cell_type": "code",
   "execution_count": 15,
   "metadata": {
    "collapsed": false
   },
   "outputs": [
    {
     "data": {
      "text/html": [
       "100"
      ],
      "text/latex": [
       "100"
      ],
      "text/markdown": [
       "100"
      ],
      "text/plain": [
       "[1] 100"
      ]
     },
     "metadata": {},
     "output_type": "display_data"
    }
   ],
   "source": [
    "cran_tweets_large <- userTimeline('cranatic', n=100)\n",
    "length(cran_tweets_large)"
   ]
  },
  {
   "cell_type": "markdown",
   "metadata": {},
   "source": [
    "Fetching most recent 100 tweets by user 'cranatic' by overriding the default limit of 20 tweets"
   ]
  },
  {
   "cell_type": "code",
   "execution_count": 16,
   "metadata": {
    "collapsed": false
   },
   "outputs": [
    {
     "data": {
      "text/html": [
       "<table>\n",
       "<thead><tr><th scope=col>name</th><th scope=col>country</th><th scope=col>woeid</th></tr></thead>\n",
       "<tbody>\n",
       "\t<tr><td>Worldwide</td><td>         </td><td>1        </td></tr>\n",
       "\t<tr><td>Winnipeg </td><td>Canada   </td><td>2972     </td></tr>\n",
       "\t<tr><td>Ottawa   </td><td>Canada   </td><td>3369     </td></tr>\n",
       "\t<tr><td>Quebec   </td><td>Canada   </td><td>3444     </td></tr>\n",
       "\t<tr><td>Montreal </td><td>Canada   </td><td>3534     </td></tr>\n",
       "\t<tr><td>Toronto  </td><td>Canada   </td><td>4118     </td></tr>\n",
       "</tbody>\n",
       "</table>\n"
      ],
      "text/latex": [
       "\\begin{tabular}{r|lll}\n",
       " name & country & woeid\\\\\n",
       "\\hline\n",
       "\t Worldwide &           & 1        \\\\\n",
       "\t Winnipeg  & Canada    & 2972     \\\\\n",
       "\t Ottawa    & Canada    & 3369     \\\\\n",
       "\t Quebec    & Canada    & 3444     \\\\\n",
       "\t Montreal  & Canada    & 3534     \\\\\n",
       "\t Toronto   & Canada    & 4118     \\\\\n",
       "\\end{tabular}\n"
      ],
      "text/markdown": [
       "\n",
       "name | country | woeid | \n",
       "|---|---|---|---|---|---|\n",
       "| Worldwide |           | 1         | \n",
       "| Winnipeg  | Canada    | 2972      | \n",
       "| Ottawa    | Canada    | 3369      | \n",
       "| Quebec    | Canada    | 3444      | \n",
       "| Montreal  | Canada    | 3534      | \n",
       "| Toronto   | Canada    | 4118      | \n",
       "\n",
       "\n"
      ],
      "text/plain": [
       "  name      country woeid\n",
       "1 Worldwide         1    \n",
       "2 Winnipeg  Canada  2972 \n",
       "3 Ottawa    Canada  3369 \n",
       "4 Quebec    Canada  3444 \n",
       "5 Montreal  Canada  3534 \n",
       "6 Toronto   Canada  4118 "
      ]
     },
     "metadata": {},
     "output_type": "display_data"
    }
   ],
   "source": [
    "avail_trends = availableTrendLocations()\n",
    "head(avail_trends)"
   ]
  },
  {
   "cell_type": "markdown",
   "metadata": {},
   "source": [
    "Get the trending locations and its woeid"
   ]
  },
  {
   "cell_type": "code",
   "execution_count": 17,
   "metadata": {
    "collapsed": false
   },
   "outputs": [
    {
     "data": {
      "text/html": [
       "<table>\n",
       "<thead><tr><th scope=col>name</th><th scope=col>country</th><th scope=col>woeid</th></tr></thead>\n",
       "<tbody>\n",
       "\t<tr><td>Concepcion</td><td>Chile     </td><td>349860    </td></tr>\n",
       "</tbody>\n",
       "</table>\n"
      ],
      "text/latex": [
       "\\begin{tabular}{r|lll}\n",
       " name & country & woeid\\\\\n",
       "\\hline\n",
       "\t Concepcion & Chile      & 349860    \\\\\n",
       "\\end{tabular}\n"
      ],
      "text/markdown": [
       "\n",
       "name | country | woeid | \n",
       "|---|\n",
       "| Concepcion | Chile      | 349860     | \n",
       "\n",
       "\n"
      ],
      "text/plain": [
       "  name       country woeid \n",
       "1 Concepcion Chile   349860"
      ]
     },
     "metadata": {},
     "output_type": "display_data"
    }
   ],
   "source": [
    "close_trends = closestTrendLocations(-42.8, -71.1)\n",
    "head(close_trends)"
   ]
  },
  {
   "cell_type": "markdown",
   "metadata": {},
   "source": [
    "Get the closest trend location for a given set of co-ordinates and its woeid"
   ]
  },
  {
   "cell_type": "code",
   "execution_count": 18,
   "metadata": {
    "collapsed": false
   },
   "outputs": [
    {
     "data": {
      "text/html": [
       "<table>\n",
       "<thead><tr><th scope=col>name</th><th scope=col>url</th><th scope=col>query</th><th scope=col>woeid</th></tr></thead>\n",
       "<tbody>\n",
       "\t<tr><td>#NationalDrinkWineDay                              </td><td>http://twitter.com/search?q=%23NationalDrinkWineDay</td><td>%23NationalDrinkWineDay                            </td><td>2367105                                            </td></tr>\n",
       "\t<tr><td>#Boskone                                           </td><td>http://twitter.com/search?q=%23Boskone             </td><td>%23Boskone                                         </td><td>2367105                                            </td></tr>\n",
       "\t<tr><td>#AAASmtg                                           </td><td>http://twitter.com/search?q=%23AAASmtg             </td><td>%23AAASmtg                                         </td><td>2367105                                            </td></tr>\n",
       "\t<tr><td>#ZGWL                                              </td><td>http://twitter.com/search?q=%23ZGWL                </td><td>%23ZGWL                                            </td><td>2367105                                            </td></tr>\n",
       "\t<tr><td>#GoNU                                              </td><td>http://twitter.com/search?q=%23GoNU                </td><td>%23GoNU                                            </td><td>2367105                                            </td></tr>\n",
       "\t<tr><td>Huskies                                            </td><td>http://twitter.com/search?q=Huskies                </td><td>Huskies                                            </td><td>2367105                                            </td></tr>\n",
       "</tbody>\n",
       "</table>\n"
      ],
      "text/latex": [
       "\\begin{tabular}{r|llll}\n",
       " name & url & query & woeid\\\\\n",
       "\\hline\n",
       "\t \\#NationalDrinkWineDay                               & http://twitter.com/search?q=\\%23NationalDrinkWineDay & \\%23NationalDrinkWineDay                             & 2367105                                              \\\\\n",
       "\t \\#Boskone                                            & http://twitter.com/search?q=\\%23Boskone              & \\%23Boskone                                          & 2367105                                              \\\\\n",
       "\t \\#AAASmtg                                            & http://twitter.com/search?q=\\%23AAASmtg              & \\%23AAASmtg                                          & 2367105                                              \\\\\n",
       "\t \\#ZGWL                                               & http://twitter.com/search?q=\\%23ZGWL                 & \\%23ZGWL                                             & 2367105                                              \\\\\n",
       "\t \\#GoNU                                               & http://twitter.com/search?q=\\%23GoNU                 & \\%23GoNU                                             & 2367105                                              \\\\\n",
       "\t Huskies                                             & http://twitter.com/search?q=Huskies                 & Huskies                                             & 2367105                                            \\\\\n",
       "\\end{tabular}\n"
      ],
      "text/markdown": [
       "\n",
       "name | url | query | woeid | \n",
       "|---|---|---|---|---|---|\n",
       "| #NationalDrinkWineDay                               | http://twitter.com/search?q=%23NationalDrinkWineDay | %23NationalDrinkWineDay                             | 2367105                                             | \n",
       "| #Boskone                                            | http://twitter.com/search?q=%23Boskone              | %23Boskone                                          | 2367105                                             | \n",
       "| #AAASmtg                                            | http://twitter.com/search?q=%23AAASmtg              | %23AAASmtg                                          | 2367105                                             | \n",
       "| #ZGWL                                               | http://twitter.com/search?q=%23ZGWL                 | %23ZGWL                                             | 2367105                                             | \n",
       "| #GoNU                                               | http://twitter.com/search?q=%23GoNU                 | %23GoNU                                             | 2367105                                             | \n",
       "| Huskies                                             | http://twitter.com/search?q=Huskies                 | Huskies                                             | 2367105                                             | \n",
       "\n",
       "\n"
      ],
      "text/plain": [
       "  name                  url                                                \n",
       "1 #NationalDrinkWineDay http://twitter.com/search?q=%23NationalDrinkWineDay\n",
       "2 #Boskone              http://twitter.com/search?q=%23Boskone             \n",
       "3 #AAASmtg              http://twitter.com/search?q=%23AAASmtg             \n",
       "4 #ZGWL                 http://twitter.com/search?q=%23ZGWL                \n",
       "5 #GoNU                 http://twitter.com/search?q=%23GoNU                \n",
       "6 Huskies               http://twitter.com/search?q=Huskies                \n",
       "  query                   woeid  \n",
       "1 %23NationalDrinkWineDay 2367105\n",
       "2 %23Boskone              2367105\n",
       "3 %23AAASmtg              2367105\n",
       "4 %23ZGWL                 2367105\n",
       "5 %23GoNU                 2367105\n",
       "6 Huskies                 2367105"
      ]
     },
     "metadata": {},
     "output_type": "display_data"
    }
   ],
   "source": [
    "trends = getTrends(2367105)\n",
    "head(trends)"
   ]
  },
  {
   "cell_type": "markdown",
   "metadata": {},
   "source": [
    "Fetch the trending topics for the given location identified using woeid"
   ]
  },
  {
   "cell_type": "code",
   "execution_count": 19,
   "metadata": {
    "collapsed": false
   },
   "outputs": [
    {
     "data": {
      "image/png": "[encoded data removed]",
      "text/plain": [
       "plot without title"
      ]
     },
     "metadata": {},
     "output_type": "display_data"
    }
   ],
   "source": [
    "r_tweets <- searchTwitter(\"#rstats\", n=300)\n",
    "sources <- sapply(r_tweets, function(x) x$getStatusSource())\n",
    "sources <- gsub(\"</a>\", \"\", sources)\n",
    "sources <- strsplit(sources, \">\")\n",
    "sources <- sapply(sources, function(x) ifelse(length(x) > 1, x[2], x[1]))\n",
    "source_table = table(sources)\n",
    "pie(source_table[source_table > 10])"
   ]
  },
  {
   "cell_type": "markdown",
   "metadata": {},
   "source": [
    "Creating a pie chart using a set of predefined data"
   ]
  },
  {
   "cell_type": "markdown",
   "metadata": {},
   "source": [
    "References:\n",
    "1. http://geoffjentry.hexdump.org/twitteR.pdf"
   ]
  }
 ],
 "metadata": {
  "kernelspec": {
   "display_name": "R",
   "language": "R",
   "name": "ir"
  },
  "language_info": {
   "codemirror_mode": "r",
   "file_extension": ".r",
   "mimetype": "text/x-r-source",
   "name": "R",
   "pygments_lexer": "r",
   "version": "3.3.2"
  }
 },
 "nbformat": 4,
 "nbformat_minor": 2
}
