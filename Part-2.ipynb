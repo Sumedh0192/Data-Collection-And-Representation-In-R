{
 "cells": [
  {
   "cell_type": "code",
   "execution_count": null,
   "metadata": {
    "collapsed": false
   },
   "outputs": [],
   "source": [
    "install.packages(\"twitteR\", repos = \"https://cran.r-project.org/\")\n",
    "install.packages(\"ROAuth\", repos = \"https://cran.r-project.org/\")\n",
    "install.packages(\"ggmap\", repos = \"https://cran.r-project.org/\")\n",
    "install.packages(\"maps\", repos = \"https://cran.r-project.org/\" )"
   ]
  },
  {
   "cell_type": "markdown",
   "metadata": {},
   "source": [
    "1. Install the required packages:\n",
    " twitteR: To use Twitter API\n",
    " ROAuth: To connect with the Twitter API\n",
    " ggmap: To connect with the google API which will help to fetch the geocode of locations\n",
    " maps: To plot tweet locations on a map "
   ]
  },
  {
   "cell_type": "code",
   "execution_count": null,
   "metadata": {
    "collapsed": true
   },
   "outputs": [],
   "source": [
    "SearchQuery <- '#sb51'"
   ]
  },
  {
   "cell_type": "markdown",
   "metadata": {},
   "source": [
    "1. Query to be searched to fetch the tweets is stored in 'SearchQuery'. Currently set to the most trending hashtag of Super Bowl"
   ]
  },
  {
   "cell_type": "code",
   "execution_count": 1,
   "metadata": {
    "collapsed": false
   },
   "outputs": [
    {
     "name": "stderr",
     "output_type": "stream",
     "text": [
      "Loading required package: ggplot2\n"
     ]
    }
   ],
   "source": [
    "library(twitteR)\n",
    "library(ROAuth)\n",
    "library(ggmap)\n",
    "library(maps)"
   ]
  },
  {
   "cell_type": "markdown",
   "metadata": {},
   "source": [
    "1. Import all the packages to access their functions"
   ]
  },
  {
   "cell_type": "code",
   "execution_count": null,
   "metadata": {
    "collapsed": false
   },
   "outputs": [],
   "source": [
    "consumer_key <- \"BKro8XRNa8BqG7dl5kkfRNzAx\"\n",
    "consumer_secret <- \"FAhRriPzc5jkEJX8LdzqDpDxzg1LDgXwwKU8nq8154RvAIpnQu\"\n",
    "access_token <- \"772574727051370496-aM0inDDiZEow8fHaVBXHKV1uDiBtKeA\"\n",
    "access_secret <- \"eIOajp1GUa0yR1sBXCIqEVHM7VJCo0c1dSGp6YoZHCm4J\"\n",
    "setup_twitter_oauth(consumer_key, consumer_secret, access_token, access_secret)"
   ]
  },
  {
   "cell_type": "markdown",
   "metadata": {},
   "source": [
    "1. Use the generated keys from Twitter App to connect with Twitter API using OAuth"
   ]
  },
  {
   "cell_type": "code",
   "execution_count": null,
   "metadata": {
    "collapsed": false
   },
   "outputs": [],
   "source": [
    "retrievedTweetsBatch <- searchTwitter(SearchQuery, n=15000, geocode='38.0000,-96.1111,2000mi')\n",
    "retrievedTweetsDF <- twListToDF(retrievedTweetsBatch)"
   ]
  },
  {
   "cell_type": "markdown",
   "metadata": {},
   "source": [
    "1. Fetch 15000 tweets matching the search query with in USA [Co-ordinates 38.0000,-96.1111 mark the center of USA and 2000mi is approximate distance of the farthest point in USA from the center]\n",
    "2. Store the tweets in a data frame to structure the data using twListToDF"
   ]
  },
  {
   "cell_type": "code",
   "execution_count": null,
   "metadata": {
    "collapsed": true
   },
   "outputs": [],
   "source": [
    "tweetUsers <- lookupUsers(retrievedTweetsDF$screenName)\n",
    "tweetUsersDF <- unique(twListToDF(tweetUsers))\n",
    "UserWithLocations <- tweetUsersDF[!(is.na(tweetUsersDF$location) | tweetUsersDF$location==\"\"),]"
   ]
  },
  {
   "cell_type": "markdown",
   "metadata": {},
   "source": [
    "1. Fetch the twitter user data for all the users of the tweets with help of function 'lookupUser' and the screennames of the users obtained from the retrieved tweet data\n",
    "2. Store the user data in a structured format by converting it into a data frame using 'twListToDF'\n",
    "3. Keep only the users who have linked their location to their twitter account"
   ]
  },
  {
   "cell_type": "code",
   "execution_count": null,
   "metadata": {
    "collapsed": false,
    "scrolled": true
   },
   "outputs": [],
   "source": [
    "Locations <- data.frame(location=NA)\n",
    "Locations <- Locations[!(is.na(Locations$location)),]\n",
    "Locations <- UserWithLocations$location\n",
    "write.csv(Locations, \"LocationsFile.csv\", row.names=FALSE)"
   ]
  },
  {
   "cell_type": "markdown",
   "metadata": {},
   "source": [
    "1. Create a data frame 'Locations' with just one column 'location' and no rows\n",
    "2. Store the list of User locations in the empty data frame 'Locations'\n",
    "3. Write the whole list of locations to a CSV file as maximum of 2500 locations can be processed at a time due to Google Maps API restriction."
   ]
  },
  {
   "cell_type": "code",
   "execution_count": null,
   "metadata": {
    "collapsed": false,
    "scrolled": true
   },
   "outputs": [],
   "source": [
    "fetchedLocations <- read.csv(\"LocationsFile.csv\", header = TRUE, sep = \",\", stringsAsFactors=FALSE)"
   ]
  },
  {
   "cell_type": "markdown",
   "metadata": {},
   "source": [
    "1. Fetch the locations from the stored CSV file."
   ]
  },
  {
   "cell_type": "code",
   "execution_count": null,
   "metadata": {
    "collapsed": false
   },
   "outputs": [],
   "source": [
    "if(nrow(fetchedLocations) > 2000){\n",
    "    fetchedLocationBatch <- fetchedLocations[1:2000,]\n",
    "    write.csv(fetchedLocations[1001:nrow(fetchedLocations),], \"Locations.csv\", row.names=FALSE)\n",
    "}else{\n",
    "    fetchedLocationBatch <- fetchedLocations[1:nrow(fetchedLocations),]\n",
    "    write.csv(data.frame(), \"Locations.csv\", row.names=FALSE)\n",
    "}"
   ]
  },
  {
   "cell_type": "markdown",
   "metadata": {},
   "source": [
    "1. Only fetch the first 2000 locations for processing to avoid QUERY_LIMIT_EXCEEDED exception and store it in 'fetchedLocationBatch'.\n",
    "2. Remove the first 2000 locations from the file to avoid duplication of records. \n",
    "3. This command can be used multiple times to fetch all the locations from the stored file and process just 2000 at a time."
   ]
  },
  {
   "cell_type": "code",
   "execution_count": null,
   "metadata": {
    "collapsed": false
   },
   "outputs": [],
   "source": [
    "if(file.exists(\"LocationCoordinates.csv\")){\n",
    "    LocationCoordinates <- read.csv(\"LocationCoordinates.csv\", header = TRUE, sep = \",\", stringsAsFactors=FALSE)  \n",
    "}else{\n",
    "    LocationCoordinates <- data.frame(lat=NA, lon=NA, freq=NA)\n",
    "}\n",
    "LocationCoordinates <- LocationCoordinates[!(is.na(LocationCoordinates$lat) | LocationCoordinates$lat==\"\"),]"
   ]
  },
  {
   "cell_type": "markdown",
   "metadata": {},
   "source": [
    "1. 'LocationCoordinate.csv' file is used to store the latitude and longitude co-ordinates for the list of processed locations.\n",
    "2. 'LocationCoordinates' is used to store the value of already stored list of co-ordinates.\n",
    "3. If there are no co-ordinates present then 'LocationCoordinates' is set to an empty data frame with 3 columns for latitude longitude and its occuring frequency"
   ]
  },
  {
   "cell_type": "code",
   "execution_count": null,
   "metadata": {
    "collapsed": false
   },
   "outputs": [],
   "source": [
    "getNewLocations <- geocode(fetchedLocationBatch)\n",
    "getNewLocations$freq <- 1\n",
    "getNewLocations <- getNewLocations[!(is.na(getNewLocations$lon) | getNewLocations$lon == \"\"),]\n",
    "nrow(LocationCoordinates)\n",
    "LocationCoordinates <- data.frame(rbind(LocationCoordinates,getNewLocations))\n",
    "LocationCoordinates <- aggregate(freq~lon+lat,LocationCoordinates,sum)\n",
    "nrow(LocationCoordinates)\n",
    "write.csv(LocationCoordinates, \"LocationCoordinates.csv\", row.names=FALSE)"
   ]
  },
  {
   "cell_type": "markdown",
   "metadata": {},
   "source": [
    "1. geocode function is used to fetch the co-ordinates of the new list of locations stored in 'fetchedLocationBatch' and the retrieved list of co-ordinates is assigned to data frame 'getNewLocations'.\n",
    "2. Third column 'freq' is added and set to 1 for all the rows in the data frame 'getNewLocations'.\n",
    "3. The old list of co-ordinates is combined with the newly retrieved list of co-ordinates i.e. data frame 'LocationCoordinates' is merged with 'getNewLocations' using rbind.\n",
    "4. Frequency is calculated for individual pair of latitude and longitude using aggregate function.\n",
    "5. The newly merged data set containing old and new co-ordinates with their corresponding frequency is stored in a CSV file."
   ]
  },
  {
   "cell_type": "code",
   "execution_count": 3,
   "metadata": {
    "collapsed": false
   },
   "outputs": [
    {
     "data": {
      "image/png": "[encoded data removed]",
      "text/plain": [
       "plot without title"
      ]
     },
     "metadata": {},
     "output_type": "display_data"
    }
   ],
   "source": [
    "LocationCoordinates <- read.csv(\"LocationCoordinates.csv\", header = TRUE, sep = \",\", stringsAsFactors=FALSE)\n",
    "sizeDivisor <- max(LocationCoordinates$freq)/10\n",
    "map <- map(database=\"state\", fill=TRUE, col=\"white\", bg=\"white\", mar=c(0,0,0,0))\n",
    "points(LocationCoordinates$lon,LocationCoordinates$lat, pch=20, grp=LocationCoordinates$count, col=\"orange\", cex=LocationCoordinates$freq/sizeDivisor)"
   ]
  },
  {
   "cell_type": "markdown",
   "metadata": {},
   "source": [
    "1. Fetch the list of co-ordinates and their frequency in a the data frame 'LocationCoordinates'\n",
    "2. Size of the points on the map is based on the frequency of the latitude longitude pair. The size has been normalized in the range of 0-10.9 so that the point does not appear too large or too small on the map, if there is a huge difference between max and min frequency.\n",
    "3. 'sizeDivisor' is used to divide the frequency and set the size of point depending on the calculated value. \n",
    "4. To plot the map the 'map' function from 'maps' package is used.\n",
    "5. A map of USA is plotted using the database of 'state'.\n",
    "6. Co-ordinates are plotted on the map using the 'points' function. Size is set to the value of frequency divided by 'sizeDivisor'.\n",
    "** Current File contains 6297 Locations and total points are identified using the frequency of the latitude longitude pair **"
   ]
  },
  {
   "cell_type": "markdown",
   "metadata": {},
   "source": [
    "References:\n",
    "1. https://cran.r-project.org/web/packages/twitteR/twitteR.pdf\n",
    "2. https://cran.r-project.org/web/packages/ggmap/ggmap.pdf\n",
    "3. https://www.youtube.com/watch?v=zmiC7X9fUmo&t=331s\n",
    "4. https://cran.r-project.org/web/packages/maps/maps.pdf\n",
    "5. https://stat.ethz.ch/R-manual/R-patched/library/graphics/html/points.html"
   ]
  }
 ],
 "metadata": {
  "kernelspec": {
   "display_name": "R",
   "language": "R",
   "name": "ir"
  },
  "language_info": {
   "codemirror_mode": "r",
   "file_extension": ".r",
   "mimetype": "text/x-r-source",
   "name": "R",
   "pygments_lexer": "r",
   "version": "3.3.2"
  }
 },
 "nbformat": 4,
 "nbformat_minor": 2
}
